{
 "cells": [
  {
   "cell_type": "markdown",
   "metadata": {
    "collapsed": true
   },
   "source": [
    "6 - Conda Package Management\n",
    "============================\n",
    "\n",
    "<br/>\n",
    "\n",
    "<font size=+1>\n",
    "<a href=https://anaconda.org/datasciencepythonr/6-conda-package-management>\n",
    "https://anaconda.org/datasciencepythonr/6-conda-package-management\n",
    "</a>\n",
    "</font>"
   ]
  },
  {
   "cell_type": "markdown",
   "metadata": {},
   "source": [
    "6.1 Install packages from Navigator\n",
    "-----------------------------------\n",
    "http://holoviews.org/"
   ]
  },
  {
   "cell_type": "code",
   "execution_count": null,
   "metadata": {
    "collapsed": false
   },
   "outputs": [],
   "source": [
    "import holoviews"
   ]
  },
  {
   "cell_type": "markdown",
   "metadata": {},
   "source": [
    "### Conda Management from Anaconda Navigator\n",
    "\n",
    "![Anaconda Navigator](http://ijstokes-public.s3.amazonaws.com/dspyr/img/screenshot_navigator_install.png)"
   ]
  },
  {
   "cell_type": "code",
   "execution_count": null,
   "metadata": {
    "collapsed": true
   },
   "outputs": [],
   "source": [
    "import holoviews"
   ]
  },
  {
   "cell_type": "code",
   "execution_count": null,
   "metadata": {
    "collapsed": false
   },
   "outputs": [],
   "source": [
    "holoviews.__version__"
   ]
  },
  {
   "cell_type": "markdown",
   "metadata": {
    "collapsed": false
   },
   "source": [
    "Download this file and place it in the same directory as your Notebook:\n",
    "\n",
    "    https://github.com/ioam/holoviews/raw/master/doc/mandelbrot.npy\n",
    "    \n",
    "In the following code block be sure to set the path to the `mandelbrot.npy` file correctly."
   ]
  },
  {
   "cell_type": "code",
   "execution_count": null,
   "metadata": {
    "collapsed": false
   },
   "outputs": [],
   "source": [
    "import numpy as np\n",
    "import holoviews as hv\n",
    "hv.notebook_extension('matplotlib')\n",
    "fractal = hv.Image(np.load('../data/mandelbrot.npy'))\n",
    "\n",
    "((fractal * hv.HLine(y=0)).hist() + fractal.sample(y=0))"
   ]
  },
  {
   "cell_type": "code",
   "execution_count": null,
   "metadata": {
    "collapsed": false
   },
   "outputs": [],
   "source": [
    "%%opts Points [scaling_factor=50] Contours (color='w')\n",
    "dots = np.linspace(-0.45, 0.45, 19)\n",
    "\n",
    "layouts = {y: (fractal * hv.Points(fractal.sample([(i,y) for i in dots])) +\n",
    "               fractal.sample(y=y) +\n",
    "               hv.operation.threshold(fractal, level=np.percentile(fractal.sample(y=y).data, 90)) +\n",
    "               hv.operation.contours(fractal, levels=[np.percentile(fractal.sample(y=y).data, 60)]))\n",
    "            for y in np.linspace(-0.3, 0.3, 21)}\n",
    "\n",
    "hv.HoloMap(layouts, kdims=['Y']).collate().cols(2)"
   ]
  },
  {
   "cell_type": "markdown",
   "metadata": {},
   "source": [
    "6.2 Add channels from Navigator\n",
    "-------------------------------"
   ]
  },
  {
   "cell_type": "markdown",
   "metadata": {},
   "source": [
    "![Anaconda Navigator](http://ijstokes-public.s3.amazonaws.com/dspyr/img/screenshot_navigator_install.png)"
   ]
  },
  {
   "cell_type": "markdown",
   "metadata": {},
   "source": [
    "**NOTE:** The following operation will only work when `r-essentials` has been installed into your Conda root environment"
   ]
  },
  {
   "cell_type": "code",
   "execution_count": null,
   "metadata": {
    "collapsed": false
   },
   "outputs": [],
   "source": [
    "!R --version"
   ]
  },
  {
   "cell_type": "markdown",
   "metadata": {},
   "source": [
    "6.3 Upgrade, downgrade and remove packages from Navigator\n",
    "---------------------------------------------------------"
   ]
  },
  {
   "cell_type": "markdown",
   "metadata": {},
   "source": [
    "6.4 Create a new environment from Navigator\n",
    "-------------------------------------------"
   ]
  },
  {
   "cell_type": "markdown",
   "metadata": {},
   "source": [
    "![Anaconda Navigator](http://ijstokes-public.s3.amazonaws.com/dspyr/img/screenshot_navigator_create_environment.png)"
   ]
  },
  {
   "cell_type": "markdown",
   "metadata": {},
   "source": [
    "6.5 Select Conda environments and Jupyter kernels\n",
    "-------------------------------------------------"
   ]
  },
  {
   "cell_type": "markdown",
   "metadata": {},
   "source": [
    "6.6 Use Conda from the command line\n",
    "-----------------------------------"
   ]
  },
  {
   "cell_type": "code",
   "execution_count": null,
   "metadata": {
    "collapsed": false
   },
   "outputs": [],
   "source": [
    "!conda -V"
   ]
  },
  {
   "cell_type": "code",
   "execution_count": null,
   "metadata": {
    "collapsed": false
   },
   "outputs": [],
   "source": [
    "!conda info"
   ]
  },
  {
   "cell_type": "code",
   "execution_count": null,
   "metadata": {
    "collapsed": false
   },
   "outputs": [],
   "source": [
    "!conda list"
   ]
  },
  {
   "cell_type": "code",
   "execution_count": null,
   "metadata": {
    "collapsed": false
   },
   "outputs": [],
   "source": [
    "!conda install -y rpy2"
   ]
  },
  {
   "cell_type": "code",
   "execution_count": null,
   "metadata": {
    "collapsed": false
   },
   "outputs": [],
   "source": [
    "!conda remove r-base"
   ]
  },
  {
   "cell_type": "code",
   "execution_count": null,
   "metadata": {
    "collapsed": false
   },
   "outputs": [],
   "source": [
    "!conda create -y -n rbasic -c r r-essentials"
   ]
  },
  {
   "cell_type": "code",
   "execution_count": null,
   "metadata": {
    "collapsed": false
   },
   "outputs": [],
   "source": [
    "!conda create -y -n py27 python=2.7"
   ]
  },
  {
   "cell_type": "code",
   "execution_count": null,
   "metadata": {
    "collapsed": true
   },
   "outputs": [],
   "source": [
    "!source activate py27"
   ]
  },
  {
   "cell_type": "code",
   "execution_count": null,
   "metadata": {
    "collapsed": true
   },
   "outputs": [],
   "source": [
    "# demonstrate version, location, packages, and package avilability"
   ]
  },
  {
   "cell_type": "code",
   "execution_count": null,
   "metadata": {
    "collapsed": false
   },
   "outputs": [],
   "source": [
    "!conda create -y -n py35 python=3.5"
   ]
  },
  {
   "cell_type": "code",
   "execution_count": null,
   "metadata": {
    "collapsed": false
   },
   "outputs": [],
   "source": [
    "!conda create -y -n nbbasic notebook python=3.5"
   ]
  },
  {
   "cell_type": "code",
   "execution_count": null,
   "metadata": {
    "collapsed": false
   },
   "outputs": [],
   "source": [
    "!conda create -y -n stats statsmodels bokeh pandas seaborn notebook python=3.5"
   ]
  },
  {
   "cell_type": "markdown",
   "metadata": {},
   "source": [
    "### Switching kernels in Jupyter"
   ]
  },
  {
   "cell_type": "code",
   "execution_count": null,
   "metadata": {
    "collapsed": false
   },
   "outputs": [],
   "source": [
    "import sys\n",
    "sys.prefix"
   ]
  },
  {
   "cell_type": "code",
   "execution_count": null,
   "metadata": {
    "collapsed": false
   },
   "outputs": [],
   "source": [
    "import sys\n",
    "sys.prefix"
   ]
  },
  {
   "cell_type": "code",
   "execution_count": null,
   "metadata": {
    "collapsed": true
   },
   "outputs": [],
   "source": [
    "# As before, demonstrate location, version, library availability\n",
    "!source activate stats"
   ]
  },
  {
   "cell_type": "code",
   "execution_count": null,
   "metadata": {
    "collapsed": false
   },
   "outputs": [],
   "source": [
    "!conda list"
   ]
  },
  {
   "cell_type": "code",
   "execution_count": null,
   "metadata": {
    "collapsed": true
   },
   "outputs": [],
   "source": [
    "!conda remove seaborn"
   ]
  },
  {
   "cell_type": "code",
   "execution_count": null,
   "metadata": {
    "collapsed": true
   },
   "outputs": [],
   "source": [
    "!conda list"
   ]
  },
  {
   "cell_type": "code",
   "execution_count": null,
   "metadata": {
    "collapsed": false
   },
   "outputs": [],
   "source": [
    "!conda info -e"
   ]
  },
  {
   "cell_type": "code",
   "execution_count": null,
   "metadata": {
    "collapsed": true
   },
   "outputs": [],
   "source": [
    "!conda remove -n py27 --all"
   ]
  },
  {
   "cell_type": "code",
   "execution_count": null,
   "metadata": {
    "collapsed": true
   },
   "outputs": [],
   "source": [
    "!rm -Rf ~/anaconda/envs/py35"
   ]
  },
  {
   "cell_type": "code",
   "execution_count": null,
   "metadata": {
    "collapsed": true
   },
   "outputs": [],
   "source": [
    "!conda info -e"
   ]
  },
  {
   "cell_type": "markdown",
   "metadata": {},
   "source": [
    "6.7 Difference between `pip` and `conda`\n",
    "----------------------------------------"
   ]
  },
  {
   "cell_type": "markdown",
   "metadata": {},
   "source": [
    "### Continuum curated vs community curated"
   ]
  },
  {
   "cell_type": "markdown",
   "metadata": {},
   "source": [
    "| Project | Description|\n",
    "|---|---|\n",
    "| [Conda Forge](http://conda-forge.github.io/) | [1300 packages](https://anaconda.org/conda-forge) |\n",
    "| [Bioconda](https://bioconda.github.io/) | [1700 packages in Python, R, and Perl](https://anaconda.org/bioconda/) |\n",
    "| [Quantopian](quantopian.com) | [Fintech packages for market quotes and algorithmic trading](https://anaconda.org/quantopian) |\n",
    "| [Intel](http://intel.com) | [MKL optimized libraries](https://anaconda.org/intel) |\n",
    "| [Omnia](http://www.omnia.md/) | [130 libraries to support molecular dynamics](https://anaconda.org/omnia) |\n",
    "| [Prometeia](http://www.prometeia.it/) | [European Fintech consulting firm's numerical packages](https://anaconda.org/prometeia) |\n",
    "| [NOAA Integrated Ocean Observation System](http://www.ioos.noaa.gov/) | [70 Geoscience packages used by the collaboration](https://anaconda.org/ioos) |"
   ]
  },
  {
   "cell_type": "code",
   "execution_count": null,
   "metadata": {
    "collapsed": true
   },
   "outputs": [],
   "source": [
    "!source activate stats"
   ]
  },
  {
   "cell_type": "code",
   "execution_count": null,
   "metadata": {
    "collapsed": false
   },
   "outputs": [],
   "source": [
    "!pip install peewee"
   ]
  },
  {
   "cell_type": "markdown",
   "metadata": {},
   "source": [
    "### Python Object Relational Mapper (ORM)"
   ]
  },
  {
   "cell_type": "code",
   "execution_count": null,
   "metadata": {
    "collapsed": false
   },
   "outputs": [],
   "source": [
    "import sys\n",
    "\n",
    "sys.prefix"
   ]
  },
  {
   "cell_type": "code",
   "execution_count": null,
   "metadata": {
    "collapsed": false
   },
   "outputs": [],
   "source": [
    "!rm people.db # in case we've already run the code below"
   ]
  },
  {
   "cell_type": "code",
   "execution_count": null,
   "metadata": {
    "collapsed": true
   },
   "outputs": [],
   "source": [
    "import peewee\n",
    "\n",
    "from peewee   import *\n",
    "from datetime import date\n",
    "\n",
    "db = SqliteDatabase('people.db')"
   ]
  },
  {
   "cell_type": "code",
   "execution_count": null,
   "metadata": {
    "collapsed": false
   },
   "outputs": [],
   "source": [
    "peewee.__file__"
   ]
  },
  {
   "cell_type": "code",
   "execution_count": null,
   "metadata": {
    "collapsed": false
   },
   "outputs": [],
   "source": [
    "peewee.__version__"
   ]
  },
  {
   "cell_type": "code",
   "execution_count": null,
   "metadata": {
    "collapsed": true
   },
   "outputs": [],
   "source": [
    "class Person(Model):\n",
    "    name         = CharField()\n",
    "    birthday     = DateField()\n",
    "\n",
    "    class Meta:\n",
    "        database = db # This model uses the \"people.db\" database."
   ]
  },
  {
   "cell_type": "code",
   "execution_count": null,
   "metadata": {
    "collapsed": true
   },
   "outputs": [],
   "source": [
    "class Pet(Model):\n",
    "    owner        = ForeignKeyField(Person, related_name='pets')\n",
    "    name         = CharField()\n",
    "    animal_type  = CharField()\n",
    "\n",
    "    class Meta:\n",
    "        database = db # this model uses the \"people.db\" database"
   ]
  },
  {
   "cell_type": "code",
   "execution_count": null,
   "metadata": {
    "collapsed": false
   },
   "outputs": [],
   "source": [
    "db.connect()\n",
    "db.create_tables([Person, Pet])"
   ]
  },
  {
   "cell_type": "code",
   "execution_count": null,
   "metadata": {
    "collapsed": false
   },
   "outputs": [],
   "source": [
    "susan = Person.create(name='Susan', birthday=date(1960, 1, 15))\n",
    "john  = Person.create(name='John',  birthday=date(1987, 3, 24))"
   ]
  },
  {
   "cell_type": "code",
   "execution_count": null,
   "metadata": {
    "collapsed": false
   },
   "outputs": [],
   "source": [
    "kitty   = Pet.create(owner=susan, name='Kitty',   animal_type='cat')\n",
    "fido    = Pet.create(owner=susan, name='Fido',    animal_type='dog')\n",
    "mittens = Pet.create(owner=john,  name='Mittens', animal_type='cat')"
   ]
  },
  {
   "cell_type": "code",
   "execution_count": null,
   "metadata": {
    "collapsed": false
   },
   "outputs": [],
   "source": [
    "for person in Person.select():\n",
    "    for pet in person.pets:\n",
    "        print(\"{name} owns {pet} the {kind}\".format(name=person.name,\n",
    "                                                    pet=pet.name,\n",
    "                                                    kind=pet.animal_type))"
   ]
  },
  {
   "cell_type": "code",
   "execution_count": null,
   "metadata": {
    "collapsed": false
   },
   "outputs": [],
   "source": [
    "!pip uninstall peewee"
   ]
  },
  {
   "cell_type": "markdown",
   "metadata": {},
   "source": [
    "6.8 Keep `pip` and `conda` up to date\n",
    "--------------------------------------"
   ]
  },
  {
   "cell_type": "code",
   "execution_count": null,
   "metadata": {
    "collapsed": false
   },
   "outputs": [],
   "source": [
    "!conda update -y pip"
   ]
  },
  {
   "cell_type": "code",
   "execution_count": null,
   "metadata": {
    "collapsed": false
   },
   "outputs": [],
   "source": [
    "!conda update -y -n root conda"
   ]
  },
  {
   "cell_type": "code",
   "execution_count": null,
   "metadata": {
    "collapsed": false
   },
   "outputs": [],
   "source": [
    "!pip -V"
   ]
  },
  {
   "cell_type": "code",
   "execution_count": null,
   "metadata": {
    "collapsed": false
   },
   "outputs": [],
   "source": [
    "!conda info -a"
   ]
  },
  {
   "cell_type": "markdown",
   "metadata": {
    "collapsed": true
   },
   "source": [
    "6.9 Export, save, and share Conda environments\n",
    "----------------------------------------------"
   ]
  },
  {
   "cell_type": "code",
   "execution_count": null,
   "metadata": {
    "collapsed": false
   },
   "outputs": [],
   "source": [
    "!conda env export -n stats --file stats.yml"
   ]
  },
  {
   "cell_type": "code",
   "execution_count": null,
   "metadata": {
    "collapsed": false
   },
   "outputs": [],
   "source": [
    "!cat stats.yml"
   ]
  },
  {
   "cell_type": "code",
   "execution_count": null,
   "metadata": {
    "collapsed": true
   },
   "outputs": [],
   "source": [
    "!cp stats.yml statsminimal.yml"
   ]
  },
  {
   "cell_type": "code",
   "execution_count": null,
   "metadata": {
    "collapsed": false
   },
   "outputs": [],
   "source": [
    "!conda env upload -f ./stats.yml stats"
   ]
  },
  {
   "cell_type": "markdown",
   "metadata": {},
   "source": [
    "![Anaconda Navigator](http://ijstokes-public.s3.amazonaws.com/dspyr/img/screenshot_navigator_import.png)"
   ]
  },
  {
   "cell_type": "code",
   "execution_count": null,
   "metadata": {
    "collapsed": true
   },
   "outputs": [],
   "source": [
    "!conda env create datasciencepythonr/dspyr"
   ]
  },
  {
   "cell_type": "markdown",
   "metadata": {},
   "source": [
    "6.10 Find packages on Anaconda Cloud and from Conda-Forge\n",
    "---------------------------------------------------------"
   ]
  },
  {
   "cell_type": "markdown",
   "metadata": {
    "collapsed": true
   },
   "source": [
    "Go Further\n",
    "----------\n",
    "1. Select your `root` environment in Navigator and then browse *\"Not installed\"* packages. Pick something that sounds interesting and install it.\n",
    "2. Use Navigator to create a new Python 3.5 environment then install into that environment the set of packages you typically use.  If you are new to Anaconda then just pick some of the ones you've heard of during this course.\n",
    "3. From the command line activate the environment you just created then use `conda env export` to dump it to a YAML file.  Upload that file to Anaconda Cloud (or Repository) with `anaconda upload`.\n",
    "4. Copy your YAML file then edit that copy and reduce the set of core packages that are required.  Remove version specifiers except where you think they are necessary.  Clean up the file so it can be used generically by others.  When you are done, upload it to Anaconda Cloud (or Repository)."
   ]
  },
  {
   "cell_type": "code",
   "execution_count": null,
   "metadata": {
    "collapsed": true
   },
   "outputs": [],
   "source": []
  }
 ],
 "metadata": {
  "anaconda-cloud": {},
  "kernelspec": {
   "display_name": "Python [default]",
   "language": "python",
   "name": "python3"
  },
  "language_info": {
   "codemirror_mode": {
    "name": "ipython",
    "version": 3
   },
   "file_extension": ".py",
   "mimetype": "text/x-python",
   "name": "python",
   "nbconvert_exporter": "python",
   "pygments_lexer": "ipython3",
   "version": "3.5.2"
  }
 },
 "nbformat": 4,
 "nbformat_minor": 1
}
