{
 "cells": [
  {
   "cell_type": "markdown",
   "metadata": {},
   "source": [
    "Lesson 7 - Data Processing and Visualization in R\n",
    "=================================================\n",
    "\n",
    "<p>\n",
    "<font size=+1>\n",
    "<a href=https://anaconda.org/datasciencepythonr/7-data-processing-and-visualization-in-r>https://anaconda.org/datasciencepythonr/7-data-processing-and-visualization-in-r</a>\n",
    "</font>\n",
    "</p>\n"
   ]
  },
  {
   "cell_type": "markdown",
   "metadata": {},
   "source": [
    "7.1 Configure an R analytics environment\n",
    "----------------------------------------"
   ]
  },
  {
   "cell_type": "markdown",
   "metadata": {},
   "source": [
    "### Command line\n",
    "\n",
    "```bash\n",
    "conda create -n rcore -c r python=3.5 anaconda rpy2 \\\n",
    "                           r-essentials r-devtools r-viridis r-lattice r-nycflights13\n",
    "```\n",
    "\n",
    "or if the Conda environment already exists:\n",
    "\n",
    "```bash\n",
    "conda install -n rcore -c r python=3.5 anaconda rpy2 \\\n",
    "                            r-essentials r-devtools r-viridis r-lattice r-nycflights13\n",
    "```"
   ]
  },
  {
   "cell_type": "markdown",
   "metadata": {},
   "source": [
    "### Navigator GUI\n",
    "\n",
    "![Anaconda Navigator](http://ijstokes-public.s3.amazonaws.com/dspyr/img/screenshot_navigator_create_environment.png)\n",
    "\n",
    "Then select the correct Conda environment (`rcore`) and add in the packages (by searching for *All* packages):\n",
    "\n",
    "* `anaconda`\n",
    "* `r-essentials`\n",
    "* `r-devtools`\n",
    "* `r-lattice`\n",
    "* `r-nycflights13`\n",
    "* `r-viridis`\n",
    "* `rpy2`\n",
    "\n",
    "**IMPORTANT:** Make sure you pick *Kernel -> Change Kernel -> R [conda env:rcore]* in your Jupyter Notebook.\n",
    "\n",
    "**NOTE:** Recent versions of Anaconda may require you to use Navigator (not Jupyter) to select the `rcore` environment and start a Jupyter Server instance from there.  From there the *Change Kernel* option should list *R* as one of the kernels.  It may not indicate `rcore` in the name.\n",
    "\n",
    "Additionally \n",
    "[read (and watch) all about *viridis* and color theory here](https://bids.github.io/colormap/)\n",
    "\n",
    "### Initial setup\n",
    "\n",
    "For convenience when working in a Jupyter setting the following will improve the screen-layout of output:"
   ]
  },
  {
   "cell_type": "code",
   "execution_count": null,
   "metadata": {
    "collapsed": false
   },
   "outputs": [],
   "source": [
    "library(repr)\n",
    "\n",
    "options(repr.plot.width=6,\n",
    "        repr.plot.height=4)\n",
    "options(repr.matrix.max.rows=10,\n",
    "        repr.matrix.max.cols = 20) "
   ]
  },
  {
   "cell_type": "markdown",
   "metadata": {},
   "source": [
    "7.2 Access and process data with `dplyr` and `tidyr`\n",
    "---------------------------------------------------"
   ]
  },
  {
   "cell_type": "code",
   "execution_count": null,
   "metadata": {
    "collapsed": false
   },
   "outputs": [],
   "source": [
    "library(tidyr)\n",
    "library(dplyr)"
   ]
  },
  {
   "cell_type": "code",
   "execution_count": null,
   "metadata": {
    "collapsed": false
   },
   "outputs": [],
   "source": [
    "library(nycflights13)"
   ]
  },
  {
   "cell_type": "code",
   "execution_count": null,
   "metadata": {
    "collapsed": false
   },
   "outputs": [],
   "source": [
    "flights"
   ]
  },
  {
   "cell_type": "markdown",
   "metadata": {},
   "source": [
    "### `dplyr::arrange()`"
   ]
  },
  {
   "cell_type": "code",
   "execution_count": null,
   "metadata": {
    "collapsed": false
   },
   "outputs": [],
   "source": [
    "arrange(flights, carrier, origin, dest)"
   ]
  },
  {
   "cell_type": "code",
   "execution_count": null,
   "metadata": {
    "collapsed": false
   },
   "outputs": [],
   "source": [
    "flights"
   ]
  },
  {
   "cell_type": "code",
   "execution_count": null,
   "metadata": {
    "collapsed": false
   },
   "outputs": [],
   "source": [
    "flights %>% arrange(dest, origin)"
   ]
  },
  {
   "cell_type": "markdown",
   "metadata": {},
   "source": [
    "### `dplyr::select()`"
   ]
  },
  {
   "cell_type": "code",
   "execution_count": null,
   "metadata": {
    "collapsed": false
   },
   "outputs": [],
   "source": [
    "select(flights, carrier, origin, dest)"
   ]
  },
  {
   "cell_type": "code",
   "execution_count": null,
   "metadata": {
    "collapsed": false
   },
   "outputs": [],
   "source": [
    "flights %>% select(carrier, origin, dest)"
   ]
  },
  {
   "cell_type": "code",
   "execution_count": null,
   "metadata": {
    "collapsed": false
   },
   "outputs": [],
   "source": [
    "flights %>%\n",
    "    select(origin, dest, carrier) %>% \n",
    "    arrange(origin, dest)"
   ]
  },
  {
   "cell_type": "markdown",
   "metadata": {},
   "source": [
    "### `group_by()` and `summarise()`"
   ]
  },
  {
   "cell_type": "code",
   "execution_count": null,
   "metadata": {
    "collapsed": false
   },
   "outputs": [],
   "source": [
    "flights %>%\n",
    "  group_by(carrier) %>%\n",
    "  select(arr_delay, dep_delay) %>%\n",
    "  summarise(\n",
    "    arr = mean(arr_delay, na.rm = TRUE),\n",
    "    dep = mean(dep_delay, na.rm = TRUE)\n",
    "  )"
   ]
  },
  {
   "cell_type": "code",
   "execution_count": null,
   "metadata": {
    "collapsed": false
   },
   "outputs": [],
   "source": [
    "flights %>%\n",
    "  group_by(carrier, origin) %>%\n",
    "  select(arr_delay, dep_delay) %>%\n",
    "  summarise(\n",
    "    arr = mean(arr_delay, na.rm = TRUE),\n",
    "    dep = mean(dep_delay, na.rm = TRUE)\n",
    "  )"
   ]
  },
  {
   "cell_type": "code",
   "execution_count": null,
   "metadata": {
    "collapsed": false
   },
   "outputs": [],
   "source": [
    "filter(flights, origin == 'JFK')"
   ]
  },
  {
   "cell_type": "code",
   "execution_count": null,
   "metadata": {
    "collapsed": false
   },
   "outputs": [],
   "source": [
    "flights %>% filter(origin == 'LGA') %>% select(dep_delay, arr_delay, carrier, dest)"
   ]
  },
  {
   "cell_type": "code",
   "execution_count": null,
   "metadata": {
    "collapsed": false,
    "scrolled": false
   },
   "outputs": [],
   "source": [
    "filter(flights, origin == 'JFK', dest == 'LAX', month == 2)"
   ]
  },
  {
   "cell_type": "code",
   "execution_count": null,
   "metadata": {
    "collapsed": false
   },
   "outputs": [],
   "source": [
    "iris %>%\n",
    " group_by(Species) %>%\n",
    " summarise(Sepal.Width.Avg = mean(Sepal.Width))"
   ]
  },
  {
   "cell_type": "markdown",
   "metadata": {},
   "source": [
    "### tidyr and `gather()`/`spread()`"
   ]
  },
  {
   "cell_type": "markdown",
   "metadata": {},
   "source": [
    "**NOTE:** The latest version of `tidyr` removes `table4`, therefore the last example below may not work in your environment."
   ]
  },
  {
   "cell_type": "code",
   "execution_count": null,
   "metadata": {
    "collapsed": false
   },
   "outputs": [],
   "source": [
    "table1"
   ]
  },
  {
   "cell_type": "code",
   "execution_count": null,
   "metadata": {
    "collapsed": false
   },
   "outputs": [],
   "source": [
    "table2"
   ]
  },
  {
   "cell_type": "markdown",
   "metadata": {},
   "source": [
    "**NOTE:** In older versions of the `tidyr` package (as used in the accompanying video) `table2` had `key` and `value` instead of `type` and `count` -- if so, revise the code below to execute:\n",
    "\n",
    "    spread(table2, key, value)"
   ]
  },
  {
   "cell_type": "code",
   "execution_count": null,
   "metadata": {
    "collapsed": false
   },
   "outputs": [],
   "source": [
    "# table2 -> table1\n",
    "spread(table2, type, count)"
   ]
  },
  {
   "cell_type": "markdown",
   "metadata": {},
   "source": [
    "**NOTE:** If `table4` does not exist for you it is probably because you have the latest `tidyr` version where this variation has been removed.  The example in the video still demonstrates how `gather()` works."
   ]
  },
  {
   "cell_type": "code",
   "execution_count": null,
   "metadata": {
    "collapsed": false
   },
   "outputs": [],
   "source": [
    "table4"
   ]
  },
  {
   "cell_type": "code",
   "execution_count": null,
   "metadata": {
    "collapsed": false
   },
   "outputs": [],
   "source": [
    "gather(table4, \"year\", \"cases\", 2:3)"
   ]
  },
  {
   "cell_type": "markdown",
   "metadata": {},
   "source": [
    "7.3 Create visualizations with ggplot \n",
    "-------------------------------------"
   ]
  },
  {
   "cell_type": "code",
   "execution_count": null,
   "metadata": {
    "collapsed": true
   },
   "outputs": [],
   "source": [
    "library(repr)\n",
    "\n",
    "options(repr.plot.width=6,\n",
    "        repr.plot.height=3)\n",
    "options(repr.matrix.max.rows=10,\n",
    "        repr.matrix.max.cols = 20) "
   ]
  },
  {
   "cell_type": "code",
   "execution_count": null,
   "metadata": {
    "collapsed": false
   },
   "outputs": [],
   "source": [
    "library(ggplot2)\n",
    "library(dplyr)"
   ]
  },
  {
   "cell_type": "code",
   "execution_count": null,
   "metadata": {
    "collapsed": false
   },
   "outputs": [],
   "source": [
    "diamonds"
   ]
  },
  {
   "cell_type": "code",
   "execution_count": null,
   "metadata": {
    "collapsed": false,
    "scrolled": true
   },
   "outputs": [],
   "source": [
    "diamonds %>% ggplot(aes(carat, price)) +\n",
    "  geom_point()"
   ]
  },
  {
   "cell_type": "code",
   "execution_count": null,
   "metadata": {
    "collapsed": false
   },
   "outputs": [],
   "source": [
    "diamonds %>% ggplot(aes(carat, price)) +\n",
    "  geom_point(color=\"blue\", alpha=0.01)"
   ]
  },
  {
   "cell_type": "code",
   "execution_count": null,
   "metadata": {
    "collapsed": false,
    "scrolled": true
   },
   "outputs": [],
   "source": [
    "diamonds %>% ggplot(aes(carat, price)) +\n",
    "  geom_point(color=\"blue\", alpha=0.05) +\n",
    "  scale_x_continuous(trans=\"log2\") +\n",
    "  scale_y_continuous(trans=\"log10\")"
   ]
  },
  {
   "cell_type": "code",
   "execution_count": null,
   "metadata": {
    "collapsed": false
   },
   "outputs": [],
   "source": [
    "diamonds %>% ggplot(aes(carat, price)) +\n",
    "  geom_hex(color=\"blue\", bins=30) +\n",
    "  scale_x_continuous(trans=\"log2\") +\n",
    "  scale_y_continuous(trans=\"log10\")"
   ]
  },
  {
   "cell_type": "code",
   "execution_count": null,
   "metadata": {
    "collapsed": false
   },
   "outputs": [],
   "source": [
    "library(viridis)"
   ]
  },
  {
   "cell_type": "code",
   "execution_count": null,
   "metadata": {
    "collapsed": false
   },
   "outputs": [],
   "source": [
    "diamonds %>% ggplot(aes(carat, price)) +\n",
    "  geom_hex(color=\"blue\", bins=30) +\n",
    "  scale_fill_viridis() +\n",
    "  scale_x_continuous(trans=\"log2\") +\n",
    "  scale_y_continuous(trans=\"log10\")"
   ]
  },
  {
   "cell_type": "code",
   "execution_count": null,
   "metadata": {
    "collapsed": false
   },
   "outputs": [],
   "source": [
    "diamonds %>% ggplot(aes(carat, price, color=cut)) +\n",
    "  geom_point(alpha=0.3) +\n",
    "  scale_x_continuous(trans=\"log2\") +\n",
    "  scale_y_continuous(trans=\"log10\")"
   ]
  },
  {
   "cell_type": "code",
   "execution_count": null,
   "metadata": {
    "collapsed": false
   },
   "outputs": [],
   "source": [
    "diamonds %>% ggplot(aes(carat, price, color=cut)) +\n",
    "  geom_point(size=0.1, alpha=0.3) +\n",
    "  scale_x_continuous(trans=\"log2\") +\n",
    "  scale_y_continuous(trans=\"log10\")"
   ]
  },
  {
   "cell_type": "code",
   "execution_count": null,
   "metadata": {
    "collapsed": false
   },
   "outputs": [],
   "source": [
    "diamonds %>% ggplot(aes(carat, price, color=cut)) +\n",
    "  geom_point(size=0.1) +\n",
    "  scale_x_continuous(trans=\"log2\") +\n",
    "  scale_y_continuous(trans=\"log10\") + \n",
    "  facet_wrap(~ cut)"
   ]
  },
  {
   "cell_type": "code",
   "execution_count": null,
   "metadata": {
    "collapsed": false
   },
   "outputs": [],
   "source": [
    "diamonds %>% ggplot(aes(carat, price, color=cut)) +\n",
    "  geom_smooth() +\n",
    "  scale_x_continuous(trans=\"log2\") +\n",
    "  scale_y_continuous(trans=\"log10\")"
   ]
  },
  {
   "cell_type": "code",
   "execution_count": null,
   "metadata": {
    "collapsed": false
   },
   "outputs": [],
   "source": [
    "diamonds %>% ggplot(aes(carat, price, color=cut)) +\n",
    "  geom_smooth()"
   ]
  },
  {
   "cell_type": "code",
   "execution_count": null,
   "metadata": {
    "collapsed": false
   },
   "outputs": [],
   "source": [
    "summary(diamonds)"
   ]
  },
  {
   "cell_type": "code",
   "execution_count": null,
   "metadata": {
    "collapsed": false
   },
   "outputs": [],
   "source": [
    "dim(diamonds)"
   ]
  },
  {
   "cell_type": "code",
   "execution_count": null,
   "metadata": {
    "collapsed": false
   },
   "outputs": [],
   "source": [
    "diamonds %>% ggplot(aes(carat, price, color=clarity)) +\n",
    "  geom_smooth() +\n",
    "  labs(title='Comparison of 53940 diamonds')"
   ]
  },
  {
   "cell_type": "code",
   "execution_count": null,
   "metadata": {
    "collapsed": false
   },
   "outputs": [],
   "source": [
    "diamonds %>% ggplot(aes(carat, price, color=color)) +\n",
    "  geom_smooth() +\n",
    "  labs(title='Comparison of 53940 diamonds',\n",
    "       y='price ($)', x='ct.')"
   ]
  },
  {
   "cell_type": "markdown",
   "metadata": {},
   "source": [
    "### `caret`::`featurePlot()`"
   ]
  },
  {
   "cell_type": "code",
   "execution_count": null,
   "metadata": {
    "collapsed": false
   },
   "outputs": [],
   "source": [
    "library(repr)\n",
    "\n",
    "options(repr.plot.width=8,\n",
    "        repr.plot.height=5)\n",
    "options(repr.matrix.max.rows=10,\n",
    "        repr.matrix.max.cols = 20) "
   ]
  },
  {
   "cell_type": "code",
   "execution_count": null,
   "metadata": {
    "collapsed": false
   },
   "outputs": [],
   "source": [
    "library(caret)\n",
    "data(iris)\n",
    "# pair-wise plots of all 4 attributes, dots colored by class"
   ]
  },
  {
   "cell_type": "code",
   "execution_count": null,
   "metadata": {
    "collapsed": false
   },
   "outputs": [],
   "source": [
    "iris"
   ]
  },
  {
   "cell_type": "code",
   "execution_count": null,
   "metadata": {
    "collapsed": false
   },
   "outputs": [],
   "source": [
    "library(dplyr)"
   ]
  },
  {
   "cell_type": "code",
   "execution_count": null,
   "metadata": {
    "collapsed": false
   },
   "outputs": [],
   "source": [
    "featurePlot(x    = iris %>% select(Sepal.Width, Sepal.Length, Petal.Width, Petal.Length), \n",
    "            y    = iris$Species, \n",
    "            plot = \"pairs\", \n",
    "            auto.key=list(columns=3))"
   ]
  },
  {
   "cell_type": "code",
   "execution_count": null,
   "metadata": {
    "collapsed": true
   },
   "outputs": [],
   "source": [
    "library(caret)\n",
    "data(iris)"
   ]
  },
  {
   "cell_type": "code",
   "execution_count": null,
   "metadata": {
    "collapsed": false
   },
   "outputs": [],
   "source": [
    "featurePlot(x        = iris %>% select(Sepal.Length, Sepal.Width, Petal.Length, Petal.Width), \n",
    "            y        = iris$Species, \n",
    "            plot     = \"pairs\", \n",
    "            auto.key = list(columns=3))"
   ]
  },
  {
   "cell_type": "code",
   "execution_count": null,
   "metadata": {
    "collapsed": false
   },
   "outputs": [],
   "source": [
    "featurePlot(x        = iris %>% select(Sepal.Length, Sepal.Width, Petal.Length, Petal.Width), \n",
    "            y        = iris$Species, \n",
    "            plot     = \"density\", \n",
    "            scales   = list(x=list(relation=\"free\"), y=list(relation=\"free\")), \n",
    "            auto.key = list(columns=3))"
   ]
  },
  {
   "cell_type": "markdown",
   "metadata": {},
   "source": [
    "**NOTE:** The following *ellipse* plot requires the full `caret` package to be installed, which will be described in the next section."
   ]
  },
  {
   "cell_type": "code",
   "execution_count": null,
   "metadata": {
    "collapsed": false
   },
   "outputs": [],
   "source": [
    "featurePlot(x = iris %>% select(Sepal.Length, Sepal.Width, Petal.Length, Petal.Width),\n",
    "            y = iris$Species, \n",
    "            plot = \"ellipse\",\n",
    "            ## Add a key at the top\n",
    "            auto.key = list(columns = 3))"
   ]
  },
  {
   "cell_type": "markdown",
   "metadata": {},
   "source": [
    "7.4 Use linear models for predictive analytics\n",
    "----------------------------------------------"
   ]
  },
  {
   "cell_type": "code",
   "execution_count": null,
   "metadata": {
    "collapsed": false
   },
   "outputs": [],
   "source": [
    "require(caTools)\n",
    "\n",
    "set.seed(123) \n",
    "\n",
    "sample = sample.split(diamonds, SplitRatio = .80)\n",
    "train  = subset(diamonds, sample == TRUE)\n",
    "test   = subset(diamonds, sample == FALSE)"
   ]
  },
  {
   "cell_type": "code",
   "execution_count": null,
   "metadata": {
    "collapsed": false
   },
   "outputs": [],
   "source": [
    "fit = lm(price ~ carat + color + clarity + cut, data=train)"
   ]
  },
  {
   "cell_type": "code",
   "execution_count": null,
   "metadata": {
    "collapsed": false
   },
   "outputs": [],
   "source": [
    "fit"
   ]
  },
  {
   "cell_type": "code",
   "execution_count": null,
   "metadata": {
    "collapsed": false
   },
   "outputs": [],
   "source": [
    "summary(fit)"
   ]
  },
  {
   "cell_type": "code",
   "execution_count": null,
   "metadata": {
    "collapsed": false
   },
   "outputs": [],
   "source": [
    "df <- data.frame(\"observed\"  = test$price,\n",
    "                 \"predicted\" = predict(fit, test))"
   ]
  },
  {
   "cell_type": "code",
   "execution_count": null,
   "metadata": {
    "collapsed": false
   },
   "outputs": [],
   "source": [
    "plot(df, col='red')"
   ]
  },
  {
   "cell_type": "code",
   "execution_count": null,
   "metadata": {
    "collapsed": false
   },
   "outputs": [],
   "source": [
    "library(viridis)"
   ]
  },
  {
   "cell_type": "code",
   "execution_count": null,
   "metadata": {
    "collapsed": false
   },
   "outputs": [],
   "source": [
    "df %>% ggplot(aes(observed, predicted)) +\n",
    "  geom_hex(color=\"blue\", bins=30) +\n",
    "  scale_fill_viridis()"
   ]
  },
  {
   "cell_type": "code",
   "execution_count": null,
   "metadata": {
    "collapsed": false
   },
   "outputs": [],
   "source": [
    "fit"
   ]
  },
  {
   "cell_type": "code",
   "execution_count": null,
   "metadata": {
    "collapsed": false
   },
   "outputs": [],
   "source": [
    "plot(fit)"
   ]
  },
  {
   "cell_type": "markdown",
   "metadata": {},
   "source": [
    "### `caret` classification and regression training in R\n",
    "\n",
    "A wrapper around almost 200 statistical and predicitive models.\n",
    "\n",
    "Details [available online](https://topepo.github.io/caret/)\n",
    "\n",
    "Those models need to be installed, using the following command.\n",
    "\n",
    "**NOTE:** You may need to execute this from an R shell started from the command line, in case it requests interactive input (e.g. selection of a mirror source) -- command interaction is not supported through the Jupyter Notebook interface to R."
   ]
  },
  {
   "cell_type": "code",
   "execution_count": null,
   "metadata": {
    "collapsed": false
   },
   "outputs": [],
   "source": [
    "install.packages(\"caret\", dependencies = c(\"Depends\", \"Suggests\"))"
   ]
  },
  {
   "cell_type": "markdown",
   "metadata": {},
   "source": [
    "Experience suggests that this R-based package install can scramble your installed version of `caret`, in which case it is a good idea to execute the following command to force-re-install the `r-caret` package (**NOTE:** be sure the environment name `rcore` matches the environment you are using).  Do this by executing the following from the command line:\n",
    "\n",
    "    conda install -f -n rcore -c r r-caret"
   ]
  },
  {
   "cell_type": "code",
   "execution_count": null,
   "metadata": {
    "collapsed": false
   },
   "outputs": [],
   "source": [
    "library(dplyr)\n",
    "library(viridis)\n",
    "library(caret)"
   ]
  },
  {
   "cell_type": "code",
   "execution_count": null,
   "metadata": {
    "collapsed": false
   },
   "outputs": [],
   "source": [
    "fit_pls <- train(price ~ carat + color + clarity + cut,\n",
    "                 data=train, \n",
    "                 method='pls')"
   ]
  },
  {
   "cell_type": "code",
   "execution_count": null,
   "metadata": {
    "collapsed": false
   },
   "outputs": [],
   "source": [
    "df <- data.frame(\"observed\"=test$price,\n",
    "                 \"predicted\"=predict(fit_pls, test))"
   ]
  },
  {
   "cell_type": "code",
   "execution_count": null,
   "metadata": {
    "collapsed": false
   },
   "outputs": [],
   "source": [
    "df %>% ggplot(aes(observed, predicted)) +\n",
    "  geom_hex(color=\"blue\", bins=30) +\n",
    "  scale_fill_viridis()"
   ]
  },
  {
   "cell_type": "markdown",
   "metadata": {},
   "source": [
    "7.5 Create interactive visualizations with rBokeh and Shiny\n",
    "-----------------------------------------------------------"
   ]
  },
  {
   "cell_type": "markdown",
   "metadata": {
    "collapsed": true
   },
   "source": [
    "`rbokeh` and `shiny` are both part of the `r-essentials` package, so you have them installed already.  The examples below are adapted from [the rbokeh documentation](https://hafen.github.io/rbokeh/)"
   ]
  },
  {
   "cell_type": "code",
   "execution_count": null,
   "metadata": {
    "collapsed": false
   },
   "outputs": [],
   "source": [
    "library(dplyr)\n",
    "library(rbokeh)\n",
    "library(shiny)"
   ]
  },
  {
   "cell_type": "code",
   "execution_count": null,
   "metadata": {
    "collapsed": false
   },
   "outputs": [],
   "source": [
    "install.packages(\"rbokeh\")"
   ]
  },
  {
   "cell_type": "code",
   "execution_count": null,
   "metadata": {
    "collapsed": false
   },
   "outputs": [],
   "source": [
    "z <- lm(dist ~ speed, data = cars)\n",
    "\n",
    "p <- figure(width = 600, height = 600) %>%\n",
    "  ly_points(cars, hover = cars) %>%\n",
    "  ly_lines(lowess(cars), legend = \"lowess\") %>%\n",
    "  ly_abline(z, type = 2, legend = \"lm\")\n",
    "p"
   ]
  },
  {
   "cell_type": "code",
   "execution_count": null,
   "metadata": {
    "collapsed": false
   },
   "outputs": [],
   "source": [
    "h <- figure(width = 600, height = 300) %>%\n",
    "  ly_hist(   eruptions, data = faithful, breaks = 30, freq = FALSE) %>%\n",
    "  ly_density(eruptions, data = faithful)\n",
    "h"
   ]
  },
  {
   "cell_type": "code",
   "execution_count": null,
   "metadata": {
    "collapsed": true
   },
   "outputs": [],
   "source": [
    "doubles <- read.csv(\"https://gist.githubusercontent.com/hafen/77f25b556725b3d0066b/raw/10f0e811f09f2b9f0f9ccfb542e296dfac2761d4/doubles.csv\")"
   ]
  },
  {
   "cell_type": "code",
   "execution_count": null,
   "metadata": {
    "collapsed": false
   },
   "outputs": [],
   "source": [
    "ly_baseball <- function(x) {\n",
    "  base_x <- c(90 * cos(pi/4), 0, 90 * cos(3 * pi/4), 0)\n",
    "  base_y <- c(90 * cos(pi/4), sqrt(90^2 + 90^2), 90 * sin(pi/4), 0)\n",
    "  distarc_x <- lapply(c(2:4) * 100, function(a)\n",
    "    seq(a * cos(3 * pi/4), a * cos(pi/4), length = 200))\n",
    "  distarc_y <- lapply(distarc_x, function(x)\n",
    "    sqrt((x[1]/cos(3 * pi/4))^2 - x^2))\n",
    "      \n",
    "  x %>%\n",
    "    ## boundary\n",
    "    ly_segments(c(0, 0), c(0, 0), c(-300, 300), c(300, 300), alpha = 0.4) %>%\n",
    "    ## bases\n",
    "    ly_crect(base_x, base_y, width = 10, height = 10,\n",
    "      angle = 45*pi/180, color = \"black\", alpha = 0.4) %>%\n",
    "    ## infield/outfield boundary\n",
    "    ly_curve(60.5 + sqrt(95^2 - x^2),\n",
    "      from = base_x[3] - 26, to = base_x[1] + 26, alpha = 0.4) %>%\n",
    "    ## distance arcs (ly_arc should work here and would be much simpler but doesn't)\n",
    "    ly_multi_line(distarc_x, distarc_y, alpha = 0.4)\n",
    "}"
   ]
  },
  {
   "cell_type": "code",
   "execution_count": null,
   "metadata": {
    "collapsed": false
   },
   "outputs": [],
   "source": [
    "figure(xgrid = FALSE, ygrid = FALSE, width = 630, height = 540,\n",
    "  xlab = \"Horizontal distance from home plate (ft.)\",\n",
    "  ylab = \"Vertical distance from home plate (ft.)\") %>%\n",
    "  ly_baseball() %>%\n",
    "  ly_hexbin(doubles, xbins = 50, shape = 0.77, alpha = 0.75, palette = \"Spectral10\")"
   ]
  },
  {
   "cell_type": "markdown",
   "metadata": {},
   "source": [
    "### Shiny\n",
    "\n",
    "[Shiny provides a mechanism to build R-based web-apps](http://shiny.rstudio.com/)\n",
    "\n",
    "Create a folder `iris_explorer` and put the following two code blocks into files in that folder named `server.R` and `ui.R` respectively.\n",
    "\n",
    "Then start up R from the command line in the folder containing `iris_explorer` (one level up from where you put the `.R` files).\n",
    "\n",
    "Then execute:\n",
    "\n",
    "```R\n",
    "library(shiny)\n",
    "runApp(\"iris_explorer\")\n",
    "```"
   ]
  },
  {
   "cell_type": "code",
   "execution_count": null,
   "metadata": {
    "collapsed": false
   },
   "outputs": [],
   "source": [
    "# server.R\n",
    "function(input, output, session) {\n",
    "\n",
    "  # Combine the selected variables into a new data frame\n",
    "  selectedData <- reactive({\n",
    "    iris[, c(input$xcol, input$ycol)]\n",
    "  })\n",
    "\n",
    "  clusters <- reactive({\n",
    "    kmeans(selectedData(), input$clusters)\n",
    "  })\n",
    "\n",
    "  output$plot1 <- renderPlot({\n",
    "    palette(c(\"#E41A1C\", \"#377EB8\", \"#4DAF4A\", \"#984EA3\",\n",
    "      \"#FF7F00\", \"#FFFF33\", \"#A65628\", \"#F781BF\", \"#999999\"))\n",
    "\n",
    "    par(mar = c(5.1, 4.1, 0, 1))\n",
    "    plot(selectedData(),\n",
    "         col = clusters()$cluster,\n",
    "         pch = 20, cex = 3)\n",
    "    points(clusters()$centers, pch = 4, cex = 4, lwd = 4)\n",
    "  })\n",
    "\n",
    "}"
   ]
  },
  {
   "cell_type": "code",
   "execution_count": null,
   "metadata": {
    "collapsed": false
   },
   "outputs": [],
   "source": [
    "# ui.R\n",
    "pageWithSidebar(\n",
    "  headerPanel('Iris k-means clustering'),\n",
    "  sidebarPanel(\n",
    "    selectInput('xcol', 'X Variable', names(iris)),\n",
    "    selectInput('ycol', 'Y Variable', names(iris),\n",
    "                selected=names(iris)[[2]]),\n",
    "    numericInput('clusters', 'Cluster count', 3,\n",
    "                 min = 1, max = 9)\n",
    "  ),\n",
    "  mainPanel(\n",
    "    plotOutput('plot1')\n",
    "  )\n",
    ")"
   ]
  },
  {
   "cell_type": "markdown",
   "metadata": {},
   "source": [
    "7.6 Bridge between R and Python with `rpy2`\n",
    "---------------------------------------------"
   ]
  },
  {
   "cell_type": "markdown",
   "metadata": {
    "collapsed": true
   },
   "source": [
    "The `rpy2` package needs to be installed for this section.\n",
    "\n",
    "```\n",
    "conda install -c r rpy2\n",
    "```\n",
    "\n",
    "Then you need to switch kernels to the Python kernel:\n",
    "\n",
    "*Kernel -> Change kernel -> Python [conda env:rcore]*"
   ]
  },
  {
   "cell_type": "code",
   "execution_count": null,
   "metadata": {
    "collapsed": false
   },
   "outputs": [],
   "source": [
    "from bokeh.sampledata.autompg import autompg\n",
    "from bokeh.charts             import Scatter\n",
    "from bokeh.io                 import output_notebook, show\n",
    "\n",
    "import pandas as pd"
   ]
  },
  {
   "cell_type": "code",
   "execution_count": null,
   "metadata": {
    "collapsed": false
   },
   "outputs": [],
   "source": [
    "pd.options.display.max_rows = 8\n",
    "output_notebook()"
   ]
  },
  {
   "cell_type": "code",
   "execution_count": null,
   "metadata": {
    "collapsed": false
   },
   "outputs": [],
   "source": [
    "autompg"
   ]
  },
  {
   "cell_type": "code",
   "execution_count": null,
   "metadata": {
    "collapsed": true
   },
   "outputs": [],
   "source": [
    "tooltips = [\n",
    "      ('Make','@make'),\n",
    "      ('MPG', '@mpg'),\n",
    "      ('hp',  '@hp')\n",
    "    ]\n",
    "\n",
    "autompg.origin.replace([1,2,3], 'American European Asian'.split(), inplace=True)\n",
    "autompg['make'] = pd.Series((n.split()[0].title() for n in autompg.name), \n",
    "                            index=autompg.index)"
   ]
  },
  {
   "cell_type": "code",
   "execution_count": null,
   "metadata": {
    "collapsed": false
   },
   "outputs": [],
   "source": [
    "cars_sp = Scatter(autompg, x='weight', y='mpg', color='origin',\n",
    "                  width=600, height=300, legend='top_right',\n",
    "                  tooltips=tooltips)\n",
    "show(cars_sp)"
   ]
  },
  {
   "cell_type": "code",
   "execution_count": null,
   "metadata": {
    "collapsed": false
   },
   "outputs": [],
   "source": [
    "car_subset = autompg[autompg.make.isin('Ford Volkswagen Honda'.split())]"
   ]
  },
  {
   "cell_type": "code",
   "execution_count": null,
   "metadata": {
    "collapsed": false
   },
   "outputs": [],
   "source": [
    "car_subset"
   ]
  },
  {
   "cell_type": "markdown",
   "metadata": {},
   "source": [
    "### R Magic"
   ]
  },
  {
   "cell_type": "code",
   "execution_count": null,
   "metadata": {
    "collapsed": true
   },
   "outputs": [],
   "source": [
    "import warnings\n",
    "warnings.filterwarnings('ignore')"
   ]
  },
  {
   "cell_type": "code",
   "execution_count": null,
   "metadata": {
    "collapsed": false
   },
   "outputs": [],
   "source": [
    "import rpy2"
   ]
  },
  {
   "cell_type": "code",
   "execution_count": null,
   "metadata": {
    "collapsed": false
   },
   "outputs": [],
   "source": [
    "%load_ext rpy2.ipython"
   ]
  },
  {
   "cell_type": "code",
   "execution_count": null,
   "metadata": {
    "collapsed": false
   },
   "outputs": [],
   "source": [
    "%R require(ggplot2)"
   ]
  },
  {
   "cell_type": "code",
   "execution_count": null,
   "metadata": {
    "collapsed": false
   },
   "outputs": [],
   "source": [
    "%%R -i car_subset -w 8 -h 4 -u in\n",
    "ggplot(data=car_subset) +\n",
    "    geom_point(aes(x=weight,y=mpg,color=origin,size=displ)) +\n",
    "    labs(title='Representative manufacturers from 1970-1982')"
   ]
  },
  {
   "cell_type": "code",
   "execution_count": null,
   "metadata": {
    "collapsed": false
   },
   "outputs": [],
   "source": [
    "%%R -w 8 -h 4 -u in\n",
    "efficiency <- lm(mpg ~ weight + displ + cyl + hp,\n",
    "                data=car_subset)\n",
    "\n",
    "library(dplyr)\n",
    "library(tidyr)\n",
    "\n",
    "car_subset %>% filter(weight < 2500) %>%\n",
    "    ggplot(aes(x=weight,y=mpg,color=origin,size=displ)) +\n",
    "    geom_smooth(se=FALSE) + geom_point() +\n",
    "    labs(title='Representative manufacturers from 1970-1982')"
   ]
  },
  {
   "cell_type": "code",
   "execution_count": null,
   "metadata": {
    "collapsed": true
   },
   "outputs": [],
   "source": [
    "%R -i autompg"
   ]
  },
  {
   "cell_type": "code",
   "execution_count": null,
   "metadata": {
    "collapsed": false
   },
   "outputs": [],
   "source": [
    "%%R -i autompg -w 8 -h 4 -u in\n",
    "efficiency = lm(mpg ~ weight + displ + cyl + hp,\n",
    "                data=autompg)\n",
    "\n",
    "library(dplyr)\n",
    "library(tidyr)\n",
    "\n",
    "autompg %>% filter(weight < 2500) %>%\n",
    "    ggplot(aes(x=weight,y=mpg,color=origin,size=displ)) +\n",
    "    geom_smooth(se=FALSE) + geom_point() +\n",
    "    labs(title='Representative manufacturers from 1970-1982')"
   ]
  },
  {
   "cell_type": "code",
   "execution_count": null,
   "metadata": {
    "collapsed": true
   },
   "outputs": [],
   "source": [
    "%%R\n",
    "X = c(1,4,5,7)\n",
    "s <- sd(X)\n",
    "m <- mean(X)"
   ]
  },
  {
   "cell_type": "code",
   "execution_count": null,
   "metadata": {
    "collapsed": true
   },
   "outputs": [],
   "source": [
    "%Rpull X s m"
   ]
  },
  {
   "cell_type": "code",
   "execution_count": null,
   "metadata": {
    "collapsed": false
   },
   "outputs": [],
   "source": [
    "X"
   ]
  },
  {
   "cell_type": "code",
   "execution_count": null,
   "metadata": {
    "collapsed": false
   },
   "outputs": [],
   "source": [
    "type(X)"
   ]
  },
  {
   "cell_type": "code",
   "execution_count": null,
   "metadata": {
    "collapsed": false
   },
   "outputs": [],
   "source": [
    "s"
   ]
  },
  {
   "cell_type": "code",
   "execution_count": null,
   "metadata": {
    "collapsed": false
   },
   "outputs": [],
   "source": [
    "type(s)"
   ]
  },
  {
   "cell_type": "code",
   "execution_count": null,
   "metadata": {
    "collapsed": false
   },
   "outputs": [],
   "source": [
    "m"
   ]
  },
  {
   "cell_type": "code",
   "execution_count": null,
   "metadata": {
    "collapsed": true
   },
   "outputs": [],
   "source": [
    "import numpy as np\n",
    "\n",
    "Y = np.array([4.5,6.3,7.9])"
   ]
  },
  {
   "cell_type": "code",
   "execution_count": null,
   "metadata": {
    "collapsed": false
   },
   "outputs": [],
   "source": [
    "Y"
   ]
  },
  {
   "cell_type": "code",
   "execution_count": null,
   "metadata": {
    "collapsed": false
   },
   "outputs": [],
   "source": [
    "%Rpush Y"
   ]
  },
  {
   "cell_type": "code",
   "execution_count": null,
   "metadata": {
    "collapsed": true
   },
   "outputs": [],
   "source": [
    "%%R -o sy,my\n",
    "\n",
    "sy <- sd(Y)\n",
    "my <- mean(Y)"
   ]
  },
  {
   "cell_type": "code",
   "execution_count": null,
   "metadata": {
    "collapsed": false
   },
   "outputs": [],
   "source": [
    "sy"
   ]
  },
  {
   "cell_type": "code",
   "execution_count": null,
   "metadata": {
    "collapsed": false
   },
   "outputs": [],
   "source": [
    "my"
   ]
  },
  {
   "cell_type": "markdown",
   "metadata": {},
   "source": [
    "### rpy2.robjects"
   ]
  },
  {
   "cell_type": "code",
   "execution_count": null,
   "metadata": {
    "collapsed": true
   },
   "outputs": [],
   "source": [
    "import rpy2.robjects as ro"
   ]
  },
  {
   "cell_type": "code",
   "execution_count": null,
   "metadata": {
    "collapsed": false
   },
   "outputs": [],
   "source": [
    "ro.r('''\n",
    "        # create a function `f`\n",
    "        f <- function(r, verbose=FALSE) {\n",
    "            if (verbose) {\n",
    "                cat(\"I am calling f().\\n\")\n",
    "            }\n",
    "            2 * pi * r\n",
    "        }\n",
    "        # call the function `f` with argument value 3\n",
    "        f(3)\n",
    "        ''')"
   ]
  },
  {
   "cell_type": "code",
   "execution_count": null,
   "metadata": {
    "collapsed": false
   },
   "outputs": [],
   "source": [
    "r_f = ro.r['f']"
   ]
  },
  {
   "cell_type": "code",
   "execution_count": null,
   "metadata": {
    "collapsed": false
   },
   "outputs": [],
   "source": [
    "r_f(10)"
   ]
  },
  {
   "cell_type": "code",
   "execution_count": null,
   "metadata": {
    "collapsed": true
   },
   "outputs": [],
   "source": [
    "result = r_f(10)"
   ]
  },
  {
   "cell_type": "code",
   "execution_count": null,
   "metadata": {
    "collapsed": false
   },
   "outputs": [],
   "source": [
    "result"
   ]
  },
  {
   "cell_type": "code",
   "execution_count": null,
   "metadata": {
    "collapsed": false
   },
   "outputs": [],
   "source": [
    "result + 5"
   ]
  },
  {
   "cell_type": "code",
   "execution_count": null,
   "metadata": {
    "collapsed": false
   },
   "outputs": [],
   "source": [
    "result[0]"
   ]
  },
  {
   "cell_type": "markdown",
   "metadata": {},
   "source": [
    "Read more in the [rpy2 Introduction](http://rpy2.readthedocs.io/en/version_2.8.x/introduction.html)"
   ]
  },
  {
   "cell_type": "code",
   "execution_count": null,
   "metadata": {
    "collapsed": true
   },
   "outputs": [],
   "source": []
  }
 ],
 "metadata": {
  "anaconda-cloud": {},
  "kernelspec": {
   "display_name": "R",
   "language": "R",
   "name": "ir"
  },
  "language_info": {
   "codemirror_mode": "r",
   "file_extension": ".r",
   "mimetype": "text/x-r-source",
   "name": "R",
   "pygments_lexer": "r",
   "version": "3.3.2"
  }
 },
 "nbformat": 4,
 "nbformat_minor": 1
}
